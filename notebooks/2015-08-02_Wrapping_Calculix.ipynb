{
 "cells": [
  {
   "cell_type": "code",
   "execution_count": 1,
   "metadata": {
    "collapsed": false
   },
   "outputs": [
    {
     "name": "stdout",
     "output_type": "stream",
     "text": [
      "Hello World!\n"
     ]
    }
   ],
   "source": [
    "println(\"Hello World!\")"
   ]
  },
  {
   "cell_type": "code",
   "execution_count": 2,
   "metadata": {
    "collapsed": false
   },
   "outputs": [
    {
     "data": {
      "text/plain": [
       "\"../deps/src/CalculiX-cmake/src/fortran/calinput.f\""
      ]
     },
     "execution_count": 2,
     "metadata": {},
     "output_type": "execute_result"
    }
   ],
   "source": [
    "calinput = \"../deps/src/CalculiX-cmake/src/fortran/calinput.f\""
   ]
  },
  {
   "cell_type": "code",
   "execution_count": 3,
   "metadata": {
    "collapsed": false
   },
   "outputs": [
    {
     "data": {
      "text/plain": [
       "pushcleanedargs! (generic function with 1 method)"
      ]
     },
     "execution_count": 3,
     "metadata": {},
     "output_type": "execute_result"
    }
   ],
   "source": [
    "function pushcleanedargs!(arglist,inputstring)\n",
    "    for arg in split(strip(inputstring),\",\")\n",
    "        cleaned_arg = strip(arg)\n",
    "        if cleaned_arg != \"\"\n",
    "            push!(arglist,cleaned_arg);\n",
    "        end\n",
    "    end\n",
    "end"
   ]
  },
  {
   "cell_type": "code",
   "execution_count": 10,
   "metadata": {
    "collapsed": false
   },
   "outputs": [
    {
     "data": {
      "text/plain": [
       "find_subroutine_args (generic function with 1 method)"
      ]
     },
     "execution_count": 10,
     "metadata": {},
     "output_type": "execute_result"
    }
   ],
   "source": [
    "function find_subroutine_args(file_name)\n",
    "    activeline = false\n",
    "    subroutineargs = []\n",
    "    fil = open(file_name)\n",
    "    \n",
    "    for line in readlines(fil)\n",
    "        if activeline & ismatch(r\"\\)\",line)\n",
    "            activeline = false          \n",
    "            line_middle_part = split(split(line,\"&\")[2],\")\")[1]\n",
    "            pushcleanedargs!(subroutineargs,line_middle_part)\n",
    "        end\n",
    "        if activeline\n",
    "            line_end_part = split(line,\"&\")[2]\n",
    "            pushcleanedargs!(subroutineargs,line_end_part)\n",
    "        end\n",
    "        if ismatch(r\"subroutine\",line)\n",
    "            activeline = true\n",
    "            line_end_part = split(line,\"(\")[2]\n",
    "            pushcleanedargs!(subroutineargs,line_end_part)\n",
    "        end\n",
    "    end\n",
    "    close(fil)\n",
    "    return subroutineargs\n",
    "end"
   ]
  },
  {
   "cell_type": "code",
   "execution_count": 80,
   "metadata": {
    "collapsed": false,
    "scrolled": false
   },
   "outputs": [],
   "source": [
    "subargs = find_subroutine_args(calinput);"
   ]
  },
  {
   "cell_type": "code",
   "execution_count": 81,
   "metadata": {
    "collapsed": false
   },
   "outputs": [
    {
     "data": {
      "text/plain": [
       "findalldefinitions (generic function with 1 method)"
      ]
     },
     "execution_count": 81,
     "metadata": {},
     "output_type": "execute_result"
    }
   ],
   "source": [
    "function findalldefinitions(file_name)\n",
    "    activeline = false\n",
    "    continuecomp = \"empty\"\n",
    "    fil = open(file_name)\n",
    "    output = Dict()\n",
    "    keyw = [\"logical\" \"character\" \"integer\" \"real\"]\n",
    "    for key in keyw\n",
    "        output[key] = []\n",
    "    end\n",
    "    for line in readlines(fil)\n",
    "        if activeline\n",
    "            if ismatch(r\"\\&\",line)\n",
    "                #println(line)\n",
    "                m = match(r\"(\\s*&\\s+)(.*)\",line)\n",
    "                pushcleanedargs!(output[continuecomp],m.captures[2])\n",
    "            else\n",
    "                activeline = false\n",
    "            end\n",
    "        end\n",
    "        for comp in keyw\n",
    "            if ismatch(Regex(comp),line)\n",
    "                \n",
    "                #println(line)\n",
    "                activeline = true\n",
    "                m = match(r\"(\\s*\\w+\\s+)(.*)\",line)\n",
    "                pushcleanedargs!(output[comp],m.captures[2])\n",
    "                continuecomp = comp\n",
    "            end\n",
    "        end\n",
    "    end\n",
    "    close(fil)\n",
    "    return output\n",
    "end"
   ]
  },
  {
   "cell_type": "code",
   "execution_count": 82,
   "metadata": {
    "collapsed": false,
    "scrolled": true
   },
   "outputs": [],
   "source": [
    "types = findalldefinitions(calinput);"
   ]
  },
  {
   "cell_type": "code",
   "execution_count": 98,
   "metadata": {
    "collapsed": false
   },
   "outputs": [
    {
     "data": {
      "text/plain": [
       "printccall (generic function with 1 method)"
      ]
     },
     "execution_count": 98,
     "metadata": {},
     "output_type": "execute_result"
    }
   ],
   "source": [
    "function printccall(args,dictoftypes)\n",
    "    print(\"(\")\n",
    "    for arg in args\n",
    "        for key in keys(dictoftypes)\n",
    "            if arg in dictoftypes[key]\n",
    "                if key == \"real\"\n",
    "                    print(\"Ptr{Float64}, \")\n",
    "                elseif key == \"integer\"\n",
    "                    print(\"Ptr{Int64}, \")\n",
    "                elseif key == \"logical\"\n",
    "                    print(\"Ptr{Bool}, \")\n",
    "                elseif key == \"character\"\n",
    "                    print(\"Ptr{ASCIIString}, \")\n",
    "                end\n",
    "            end\n",
    "        end\n",
    "    end\n",
    "    print(\")\")\n",
    "end"
   ]
  },
  {
   "cell_type": "code",
   "execution_count": 99,
   "metadata": {
    "collapsed": false
   },
   "outputs": [
    {
     "name": "stdout",
     "output_type": "stream",
     "text": [
      "(Ptr{Int64}, Ptr{Int64}, Ptr{Int64}, Ptr{Int64}, Ptr{Int64}, Ptr{Int64}, Ptr{Int64}, Ptr{Int64}, Ptr{Int64}, Ptr{Int64}, Ptr{Int64}, Ptr{Int64}, Ptr{Int64}, Ptr{Int64}, Ptr{Int64}, Ptr{Int64}, Ptr{Int64}, Ptr{Int64}, Ptr{Int64}, Ptr{Int64}, Ptr{Float64}, Ptr{Int64}, Ptr{Int64}, Ptr{Int64}, Ptr{Int64}, Ptr{Int64}, Ptr{Int64}, Ptr{Int64}, Ptr{Float64}, Ptr{Int64}, Ptr{Int64}, Ptr{Int64}, Ptr{Int64}, Ptr{Int64}, Ptr{Int64}, Ptr{Int64}, Ptr{Int64}, Ptr{Int64}, Ptr{Int64}, Ptr{Int64}, Ptr{Int64}, Ptr{Int64}, Ptr{Int64}, Ptr{Int64}, Ptr{Int64}, Ptr{Float64}, Ptr{ASCIIString}, Ptr{Int64}, Ptr{Int64}, Ptr{Int64}, Ptr{Int64}, Ptr{Int64}, Ptr{Int64}, Ptr{Int64}, Ptr{Int64}, Ptr{Int64}, Ptr{Int64}, Ptr{Int64}, Ptr{Int64}, Ptr{Int64}, Ptr{Int64}, Ptr{Int64}, )"
     ]
    }
   ],
   "source": [
    "printccall(subargs,types)"
   ]
  },
  {
   "cell_type": "code",
   "execution_count": 94,
   "metadata": {
    "collapsed": false
   },
   "outputs": [
    {
     "data": {
      "text/plain": [
       "Ptr{ASCIIString}"
      ]
     },
     "execution_count": 94,
     "metadata": {},
     "output_type": "execute_result"
    }
   ],
   "source": [
    "Ptr{ASCIIString}"
   ]
  },
  {
   "cell_type": "code",
   "execution_count": null,
   "metadata": {
    "collapsed": true
   },
   "outputs": [],
   "source": []
  }
 ],
 "metadata": {
  "kernelspec": {
   "display_name": "Julia 0.4.0-dev",
   "language": "julia",
   "name": "julia-0.4"
  },
  "language_info": {
   "name": "julia",
   "version": "0.4.0"
  }
 },
 "nbformat": 4,
 "nbformat_minor": 0
}
